{
 "cells": [
  {
   "cell_type": "markdown",
   "id": "3b5f6760-6ef0-4d17-ae8d-d2bcfb242904",
   "metadata": {},
   "source": [
    "# EMR Import to Iceberg Demo\n",
    "\n",
    "This notebook shows how to import and optimize a public CSV dataset to an Iceberg table.\n",
    "\n",
    "First, we need to read the data from S3. When setting up the session, we specify several Iceberg-related parameters"
   ]
  },
  {
   "cell_type": "code",
   "execution_count": 1,
   "id": "5faf89e3-ed8f-4234-84fd-b48b8c242477",
   "metadata": {
    "execution": {
     "iopub.execute_input": "2023-09-21T07:58:20.759639Z",
     "iopub.status.busy": "2023-09-21T07:58:20.759349Z",
     "iopub.status.idle": "2023-09-21T07:58:20.804380Z",
     "shell.execute_reply": "2023-09-21T07:58:20.803296Z",
     "shell.execute_reply.started": "2023-09-21T07:58:20.759606Z"
    },
    "tags": []
   },
   "outputs": [
    {
     "data": {
      "text/html": [
       "Current session configs: <tt>{'conf': {'spark.jars': 'local:///usr/share/aws/iceberg/lib/iceberg-spark3-runtime.jar', 'spark.sql.catalog.dev.warehouse': 's3://odapocinfra-awspocdatabucket5eb99186-1nswrrisawh0t/output/poc/iceberg/', 'spark.sql.extensions': 'org.apache.iceberg.spark.extensions.IcebergSparkSessionExtensions', 'spark.sql.catalog.dev': 'org.apache.iceberg.spark.SparkCatalog', 'spark.sql.catalog.dev.catalog-impl': 'org.apache.iceberg.aws.glue.GlueCatalog', 'spark.hadoop.hive.metastore.client.factory.class': 'com.amazonaws.glue.catalog.metastore.AWSGlueDataCatalogHiveClientFactory'}, 'proxyUser': 'user_pocEngineer', 'kind': 'pyspark'}</tt><br>"
      ],
      "text/plain": [
       "<IPython.core.display.HTML object>"
      ]
     },
     "metadata": {},
     "output_type": "display_data"
    },
    {
     "data": {
      "text/html": [
       "<table>\n<tbody><tr><th>ID</th><th>YARN Application ID</th><th>Kind</th><th>State</th><th>Spark UI</th><th>Driver log</th><th>User</th><th>Current session?</th></tr><tr><td>1</td><td>application_1695280706788_0002</td><td>pyspark</td><td>busy</td><td><a target=\"_blank\" href=\"http://ip-10-0-169-73.us-west-2.compute.internal:20888/proxy/application_1695280706788_0002/\" class=\"emr-proxy-link j-34D7ZZD72QSL2 application_1695280706788_0002\" emr-resource=\"j-34D7ZZD72QSL2\n\" application-id=\"application_1695280706788_0002\">Link</a></td><td><a target=\"_blank\" href=\"http://ip-10-0-186-196.us-west-2.compute.internal:8042/node/containerlogs/container_1695280706788_0002_01_000001/livy\">Link</a></td><td>None</td><td></td></tr></tbody></table>"
      ],
      "text/plain": [
       "<IPython.core.display.HTML object>"
      ]
     },
     "metadata": {},
     "output_type": "display_data"
    }
   ],
   "source": [
    "%%configure -f\n",
    "{\n",
    "    \"conf\": {\n",
    "        \"spark.jars\": \"local:///usr/share/aws/iceberg/lib/iceberg-spark3-runtime.jar\",\n",
    "        \"spark.sql.catalog.dev.warehouse\": \"s3://odapocinfra-awspocdatabucket5eb99186-1nswrrisawh0t/output/poc/iceberg/\",\n",
    "        \"spark.sql.extensions\": \"org.apache.iceberg.spark.extensions.IcebergSparkSessionExtensions\",\n",
    "        \"spark.sql.catalog.dev\": \"org.apache.iceberg.spark.SparkCatalog\",\n",
    "        \"spark.sql.catalog.dev.catalog-impl\": \"org.apache.iceberg.aws.glue.GlueCatalog\",\n",
    "        \"spark.hadoop.hive.metastore.client.factory.class\": \"com.amazonaws.glue.catalog.metastore.AWSGlueDataCatalogHiveClientFactory\"\n",
    "    }\n",
    "}"
   ]
  },
  {
   "cell_type": "code",
   "execution_count": 12,
   "id": "78849134-2843-4051-aebe-8e242d30df80",
   "metadata": {
    "execution": {
     "iopub.execute_input": "2023-09-21T08:02:27.219468Z",
     "iopub.status.busy": "2023-09-21T08:02:27.219104Z",
     "iopub.status.idle": "2023-09-21T08:03:28.715054Z",
     "shell.execute_reply": "2023-09-21T08:03:28.714034Z",
     "shell.execute_reply.started": "2023-09-21T08:02:27.219436Z"
    },
    "tags": []
   },
   "outputs": [
    {
     "data": {
      "application/vnd.jupyter.widget-view+json": {
       "model_id": "4e4c4aae240943fcbf73a0992032309f",
       "version_major": 2,
       "version_minor": 0
      },
      "text/plain": [
       "VBox()"
      ]
     },
     "metadata": {},
     "output_type": "display_data"
    },
    {
     "data": {
      "application/vnd.jupyter.widget-view+json": {
       "model_id": "",
       "version_major": 2,
       "version_minor": 0
      },
      "text/plain": [
       "FloatProgress(value=0.0, bar_style='info', description='Progress:', layout=Layout(height='25px', width='50%'),…"
      ]
     },
     "metadata": {},
     "output_type": "display_data"
    },
    {
     "name": "stdout",
     "output_type": "stream",
     "text": [
      "+-----------+----------+--------+---------+---------+--------------------+----+---------------+----+---------------+------+--------------+-----+--------------+-----+----------------+----+---------------+-----+-----+----+--------------+----+--------------+----+---------------+-----+------+\n",
      "|    STATION|      DATE|LATITUDE|LONGITUDE|ELEVATION|                NAME|TEMP|TEMP_ATTRIBUTES|DEWP|DEWP_ATTRIBUTES|   SLP|SLP_ATTRIBUTES|  STP|STP_ATTRIBUTES|VISIB|VISIB_ATTRIBUTES|WDSP|WDSP_ATTRIBUTES|MXSPD| GUST| MAX|MAX_ATTRIBUTES| MIN|MIN_ATTRIBUTES|PRCP|PRCP_ATTRIBUTES| SNDP|FRSHTT|\n",
      "+-----------+----------+--------+---------+---------+--------------------+----+---------------+----+---------------+------+--------------+-----+--------------+-----+----------------+----+---------------+-----+-----+----+--------------+----+--------------+----+---------------+-----+------+\n",
      "|72793024233|2000-01-01| 47.4444|-122.3138|    112.8|SEATTLE TACOMA IN...|41.7|           24.0|38.7|           24.0|1010.7|          18.0|999.9|           0.0|  9.1|            24.0|11.8|           24.0| 17.1| 27.0|45.0|              |36.0|              |0.05|              G|999.9|110000|\n",
      "|72793024233|2000-01-02| 47.4444|-122.3138|    112.8|SEATTLE TACOMA IN...|40.2|           24.0|35.6|           24.0|1013.3|          22.0|999.9|           0.0| 10.0|            24.0| 8.5|           24.0| 13.0| 19.0|44.6|             *|37.9|             *|0.27|              G|999.9|     0|\n",
      "|72793024233|2000-01-03| 47.4444|-122.3138|    112.8|SEATTLE TACOMA IN...|39.1|           24.0|36.0|           24.0|1024.5|          22.0|999.9|           0.0|  8.9|            24.0| 6.4|           24.0| 10.1|999.9|44.6|             *|35.6|             *|0.01|              G|999.9|110000|\n",
      "|72793024233|2000-01-04| 47.4444|-122.3138|    112.8|SEATTLE TACOMA IN...|46.5|           24.0|42.2|           24.0|1017.1|          21.0|999.9|           0.0|  8.1|            24.0|11.8|           24.0| 18.1| 25.1|50.0|              |36.0|              |0.57|              G|999.9|110000|\n",
      "|72793024233|2000-01-05| 47.4444|-122.3138|    112.8|SEATTLE TACOMA IN...|43.1|           24.0|38.4|           24.0|1029.2|          16.0|999.9|           0.0| 10.0|            24.0| 7.8|           24.0| 14.0| 21.0|50.0|              |39.9|              | 0.3|              G|999.9| 10000|\n",
      "|72793024233|2000-01-06| 47.4444|-122.3138|    112.8|SEATTLE TACOMA IN...|38.3|           24.0|34.3|           24.0|1029.0|          24.0|999.9|           0.0|  9.9|            24.0| 5.0|           24.0| 10.1|999.9|44.1|              |33.1|              | 0.0|              G|999.9| 10000|\n",
      "|72793024233|2000-01-07| 47.4444|-122.3138|    112.8|SEATTLE TACOMA IN...|41.4|           24.0|39.2|           24.0|1024.8|          16.0|999.9|           0.0|  7.6|            24.0| 7.0|           24.0| 13.0|999.9|46.0|              |33.1|              |0.03|              G|999.9|110000|\n",
      "|72793024233|2000-01-08| 47.4444|-122.3138|    112.8|SEATTLE TACOMA IN...|44.6|           24.0|40.3|           24.0|1015.9|          18.0|999.9|           0.0|  7.9|            24.0|11.5|           24.0| 20.0| 29.9|46.4|             *|42.8|             *|0.32|              G|999.9|110000|\n",
      "|72793024233|2000-01-09| 47.4444|-122.3138|    112.8|SEATTLE TACOMA IN...|40.0|           24.0|34.7|           24.0|1012.5|          22.0|999.9|           0.0|  8.3|            24.0|13.4|           24.0| 22.9| 30.9|43.0|             *|35.6|             *|0.35|              G|999.9|110000|\n",
      "|72793024233|2000-01-10| 47.4444|-122.3138|    112.8|SEATTLE TACOMA IN...|35.9|           24.0|33.3|           24.0|1010.6|          20.0|999.9|           0.0|  9.8|            24.0| 8.8|           24.0| 14.0| 19.0|44.1|              |34.0|              |0.05|              G|999.9|111000|\n",
      "|72793024233|2000-01-11| 47.4444|-122.3138|    112.8|SEATTLE TACOMA IN...|35.2|           24.0|34.1|           24.0|1002.8|          17.0|999.9|           0.0|  5.9|            24.0| 7.3|           24.0| 11.1| 15.9|37.4|             *|33.8|             *|0.19|              G|999.9|111000|\n",
      "|72793024233|2000-01-12| 47.4444|-122.3138|    112.8|SEATTLE TACOMA IN...|34.4|           24.0|32.6|           24.0|1010.5|          15.0|999.9|           0.0|  6.4|            24.0| 9.7|           24.0| 17.1| 27.0|37.9|              |32.0|              |0.15|              G|  1.2|111000|\n",
      "|72793024233|2000-01-13| 47.4444|-122.3138|    112.8|SEATTLE TACOMA IN...|37.5|           24.0|35.5|           24.0|1013.7|          21.0|999.9|           0.0|  9.7|            24.0| 4.0|           24.0| 13.0|999.9|39.9|              |32.0|              |0.12|              G|999.9| 10000|\n",
      "|72793024233|2000-01-14| 47.4444|-122.3138|    112.8|SEATTLE TACOMA IN...|40.5|           24.0|38.6|           24.0|1010.4|          21.0|999.9|           0.0|  8.8|            24.0| 7.1|           24.0| 19.0| 30.9|44.1|              |36.0|              |0.11|              G|999.9|110000|\n",
      "|72793024233|2000-01-15| 47.4444|-122.3138|    112.8|SEATTLE TACOMA IN...|38.6|           24.0|34.1|           24.0|1018.4|          19.0|999.9|           0.0|  9.5|            24.0| 9.2|           24.0| 16.9| 23.9|44.1|              |34.0|              |0.28|              G|999.9|110000|\n",
      "|72793024233|2000-01-16| 47.4444|-122.3138|    112.8|SEATTLE TACOMA IN...|41.1|           24.0|33.1|           24.0|1003.3|          23.0|999.9|           0.0|  9.8|            24.0|11.7|           24.0| 31.1| 42.9|50.0|              |34.0|              |0.12|              G|999.9| 10000|\n",
      "|72793024233|2000-01-17| 47.4444|-122.3138|    112.8|SEATTLE TACOMA IN...|42.0|           24.0|34.9|           24.0|1020.4|          24.0|999.9|           0.0|  8.7|            24.0| 9.7|           24.0| 25.1| 35.0|50.0|              |35.1|              |0.17|              G|999.9|110000|\n",
      "|72793024233|2000-01-18| 47.4444|-122.3138|    112.8|SEATTLE TACOMA IN...|36.6|           24.0|32.0|           24.0|1023.4|          24.0|999.9|           0.0|  9.8|            24.0| 6.8|           24.0| 12.0|999.9|48.9|              |30.0|              |0.01|              G|999.9|100000|\n",
      "|72793024233|2000-01-19| 47.4444|-122.3138|    112.8|SEATTLE TACOMA IN...|35.6|           24.0|31.2|           24.0|1022.4|          24.0|999.9|           0.0|  9.2|            24.0| 7.5|           24.0| 11.1|999.9|44.1|             *|28.4|             *| 0.0|              G|999.9|100000|\n",
      "|72793024233|2000-01-20| 47.4444|-122.3138|    112.8|SEATTLE TACOMA IN...|39.2|           24.0|36.0|           24.0|1016.6|          23.0|999.9|           0.0|  9.0|            24.0| 5.3|           24.0| 10.1|999.9|46.9|              |28.9|              | 0.2|              G|999.9|110000|\n",
      "+-----------+----------+--------+---------+---------+--------------------+----+---------------+----+---------------+------+--------------+-----+--------------+-----+----------------+----+---------------+-----+-----+----+--------------+----+--------------+----+---------------+-----+------+\n",
      "only showing top 20 rows"
     ]
    }
   ],
   "source": [
    "df = spark.read.format(\"csv\").load(\"s3://noaa-gsod-pds/20*/72793*.csv\", inferSchema=\"true\", header=\"true\")\n",
    "df.show()"
   ]
  },
  {
   "cell_type": "markdown",
   "id": "4de8e67c-5176-4b56-8d7c-31463f2146f9",
   "metadata": {
    "execution": {
     "iopub.execute_input": "2023-09-19T05:44:45.843496Z",
     "iopub.status.busy": "2023-09-19T05:44:45.843127Z",
     "iopub.status.idle": "2023-09-19T05:44:59.204281Z",
     "shell.execute_reply": "2023-09-19T05:44:59.203275Z",
     "shell.execute_reply.started": "2023-09-19T05:44:45.843466Z"
    },
    "tags": []
   },
   "source": [
    "We want to use [Iceberg auto-partitioning](https://iceberg.apache.org/docs/latest/partitioning/), but to do so we need to use `sortWithinPartitions`."
   ]
  },
  {
   "cell_type": "code",
   "execution_count": 13,
   "id": "b875436f-ec7d-4c70-b618-fe3ce7cee0c7",
   "metadata": {
    "execution": {
     "iopub.execute_input": "2023-09-21T08:03:28.716950Z",
     "iopub.status.busy": "2023-09-21T08:03:28.716623Z",
     "iopub.status.idle": "2023-09-21T08:03:28.773513Z",
     "shell.execute_reply": "2023-09-21T08:03:28.772361Z",
     "shell.execute_reply.started": "2023-09-21T08:03:28.716921Z"
    },
    "tags": []
   },
   "outputs": [
    {
     "data": {
      "application/vnd.jupyter.widget-view+json": {
       "model_id": "5cbf3aa6e66249e2b6fb7606a72bac6f",
       "version_major": 2,
       "version_minor": 0
      },
      "text/plain": [
       "VBox()"
      ]
     },
     "metadata": {},
     "output_type": "display_data"
    },
    {
     "data": {
      "application/vnd.jupyter.widget-view+json": {
       "model_id": "",
       "version_major": 2,
       "version_minor": 0
      },
      "text/plain": [
       "FloatProgress(value=0.0, bar_style='info', description='Progress:', layout=Layout(height='25px', width='50%'),…"
      ]
     },
     "metadata": {},
     "output_type": "display_data"
    }
   ],
   "source": [
    "df = df.sortWithinPartitions(\"DATE\")"
   ]
  },
  {
   "cell_type": "markdown",
   "id": "aa48b641-9394-40ca-873e-4037ab4c4bf6",
   "metadata": {},
   "source": [
    "And then we'll create a temp table to use to create our Iceberg table."
   ]
  },
  {
   "cell_type": "code",
   "execution_count": 14,
   "id": "5bc7f127-683c-4d7f-8384-167856930af2",
   "metadata": {
    "execution": {
     "iopub.execute_input": "2023-09-21T08:03:28.776445Z",
     "iopub.status.busy": "2023-09-21T08:03:28.776046Z",
     "iopub.status.idle": "2023-09-21T08:03:29.039399Z",
     "shell.execute_reply": "2023-09-21T08:03:29.038344Z",
     "shell.execute_reply.started": "2023-09-21T08:03:28.776404Z"
    },
    "tags": []
   },
   "outputs": [
    {
     "data": {
      "application/vnd.jupyter.widget-view+json": {
       "model_id": "7dd9dc1ef46041a5829c5ff890008a4a",
       "version_major": 2,
       "version_minor": 0
      },
      "text/plain": [
       "VBox()"
      ]
     },
     "metadata": {},
     "output_type": "display_data"
    },
    {
     "data": {
      "application/vnd.jupyter.widget-view+json": {
       "model_id": "",
       "version_major": 2,
       "version_minor": 0
      },
      "text/plain": [
       "FloatProgress(value=0.0, bar_style='info', description='Progress:', layout=Layout(height='25px', width='50%'),…"
      ]
     },
     "metadata": {},
     "output_type": "display_data"
    }
   ],
   "source": [
    "df.createOrReplaceTempView(\"input_table\")"
   ]
  },
  {
   "cell_type": "markdown",
   "id": "68e95d89-5a05-464c-9c47-69fe60360f7b",
   "metadata": {},
   "source": [
    "Now create the Glue table."
   ]
  },
  {
   "cell_type": "code",
   "execution_count": 15,
   "id": "c8759a64-e42f-42b5-ba2c-be5c6575dac2",
   "metadata": {
    "execution": {
     "iopub.execute_input": "2023-09-21T08:03:29.041506Z",
     "iopub.status.busy": "2023-09-21T08:03:29.041209Z",
     "iopub.status.idle": "2023-09-21T08:03:40.363670Z",
     "shell.execute_reply": "2023-09-21T08:03:40.362470Z",
     "shell.execute_reply.started": "2023-09-21T08:03:29.041476Z"
    },
    "tags": []
   },
   "outputs": [
    {
     "data": {
      "application/vnd.jupyter.widget-view+json": {
       "model_id": "fef430206fbd4a928b1c0bc5c50d95f6",
       "version_major": 2,
       "version_minor": 0
      },
      "text/plain": [
       "VBox()"
      ]
     },
     "metadata": {},
     "output_type": "display_data"
    },
    {
     "data": {
      "application/vnd.jupyter.widget-view+json": {
       "model_id": "",
       "version_major": 2,
       "version_minor": 0
      },
      "text/plain": [
       "FloatProgress(value=0.0, bar_style='info', description='Progress:', layout=Layout(height='25px', width='50%'),…"
      ]
     },
     "metadata": {},
     "output_type": "display_data"
    },
    {
     "name": "stdout",
     "output_type": "stream",
     "text": [
      "DataFrame[]"
     ]
    }
   ],
   "source": [
    "partitions=[\"years(DATE)\"]\n",
    "query = f\"\"\"\n",
    "        CREATE OR REPLACE TABLE dev.poc_default.noaa_poc_demo\n",
    "        USING iceberg\n",
    "        PARTITIONED BY ({','.join(partitions)})\n",
    "        AS SELECT * FROM input_table\n",
    "    \"\"\"\n",
    "spark.sql(query)"
   ]
  },
  {
   "cell_type": "markdown",
   "id": "d71e367a-cd36-49d2-9bdc-9f59297af7db",
   "metadata": {},
   "source": [
    "Now we can query the table!"
   ]
  },
  {
   "cell_type": "code",
   "execution_count": 16,
   "id": "5511a83a-b720-43ff-9350-53a30acfd4ba",
   "metadata": {
    "execution": {
     "iopub.execute_input": "2023-09-21T08:03:40.365590Z",
     "iopub.status.busy": "2023-09-21T08:03:40.365225Z",
     "iopub.status.idle": "2023-09-21T08:03:41.144261Z",
     "shell.execute_reply": "2023-09-21T08:03:41.143256Z",
     "shell.execute_reply.started": "2023-09-21T08:03:40.365557Z"
    },
    "tags": []
   },
   "outputs": [
    {
     "data": {
      "application/vnd.jupyter.widget-view+json": {
       "model_id": "bd7abf9ae85a458495a9df293326ab90",
       "version_major": 2,
       "version_minor": 0
      },
      "text/plain": [
       "VBox()"
      ]
     },
     "metadata": {},
     "output_type": "display_data"
    },
    {
     "data": {
      "application/vnd.jupyter.widget-view+json": {
       "model_id": "",
       "version_major": 2,
       "version_minor": 0
      },
      "text/plain": [
       "FloatProgress(value=0.0, bar_style='info', description='Progress:', layout=Layout(height='25px', width='50%'),…"
      ]
     },
     "metadata": {},
     "output_type": "display_data"
    },
    {
     "name": "stdout",
     "output_type": "stream",
     "text": [
      "Number of records in iceberg: 43305"
     ]
    }
   ],
   "source": [
    "count = spark.sql(f\"SELECT count(*) FROM dev.poc_default.noaa_poc_demo\").first()[0]\n",
    "print(f\"Number of records in iceberg: {count}\")"
   ]
  },
  {
   "cell_type": "code",
   "execution_count": 17,
   "id": "b34b1ca8-a0d6-49e9-af5b-4e459db47b9e",
   "metadata": {
    "execution": {
     "iopub.execute_input": "2023-09-21T08:03:41.145971Z",
     "iopub.status.busy": "2023-09-21T08:03:41.145632Z",
     "iopub.status.idle": "2023-09-21T08:03:41.971971Z",
     "shell.execute_reply": "2023-09-21T08:03:41.970936Z",
     "shell.execute_reply.started": "2023-09-21T08:03:41.145940Z"
    },
    "tags": []
   },
   "outputs": [
    {
     "name": "stdout",
     "output_type": "stream",
     "text": [
      "2023-09-21 07:59:27   15.0 KiB 00003-9-d2b1e785-5ecb-4827-a171-2ba89629d21e-00005.parquet\n",
      "2023-09-21 08:03:35   29.2 KiB 00023-302-58362fc3-a108-493c-95bf-18d5f9efe73f-00001.parquet\n",
      "\n",
      "Total Objects: 2\n",
      "   Total Size: 44.3 KiB\n"
     ]
    }
   ],
   "source": [
    "%%sh\n",
    "aws s3 ls s3://odapocinfra-awspocdatabucket5eb99186-1nswrrisawh0t/output/poc/iceberg/poc_default.db/noaa_poc_demo/data/DATE_year=2023/ --summarize --human | tail"
   ]
  },
  {
   "cell_type": "markdown",
   "id": "2935017f-7711-4f26-802f-2e358715b9f4",
   "metadata": {},
   "source": [
    "## Iceberg Maintenance\n",
    "\n",
    "While Iceberg has some good defaults, we still occasionally need to perform maintenace particularly if our source data is not of good shape.\n",
    "\n",
    "In this case, we had many little CSV files. We can change import settings, or we can optimize after the fact."
   ]
  },
  {
   "cell_type": "code",
   "execution_count": 18,
   "id": "9b1187eb-26cf-48ba-890f-35c851d0cfda",
   "metadata": {
    "execution": {
     "iopub.execute_input": "2023-09-21T08:03:41.973827Z",
     "iopub.status.busy": "2023-09-21T08:03:41.973525Z",
     "iopub.status.idle": "2023-09-21T08:03:49.338749Z",
     "shell.execute_reply": "2023-09-21T08:03:49.337748Z",
     "shell.execute_reply.started": "2023-09-21T08:03:41.973796Z"
    },
    "tags": []
   },
   "outputs": [
    {
     "data": {
      "application/vnd.jupyter.widget-view+json": {
       "model_id": "917246be70e548e993a31deadf4cb687",
       "version_major": 2,
       "version_minor": 0
      },
      "text/plain": [
       "VBox()"
      ]
     },
     "metadata": {},
     "output_type": "display_data"
    },
    {
     "data": {
      "application/vnd.jupyter.widget-view+json": {
       "model_id": "",
       "version_major": 2,
       "version_minor": 0
      },
      "text/plain": [
       "FloatProgress(value=0.0, bar_style='info', description='Progress:', layout=Layout(height='25px', width='50%'),…"
      ]
     },
     "metadata": {},
     "output_type": "display_data"
    },
    {
     "name": "stdout",
     "output_type": "stream",
     "text": [
      "+--------------------------+----------------------+---------------------+-----------------------+\n",
      "|rewritten_data_files_count|added_data_files_count|rewritten_bytes_count|failed_data_files_count|\n",
      "+--------------------------+----------------------+---------------------+-----------------------+\n",
      "|                        50|                    10|               845541|                      0|\n",
      "+--------------------------+----------------------+---------------------+-----------------------+"
     ]
    }
   ],
   "source": [
    "target_file_size = 256\n",
    "compact_query = f\"CALL dev.system.rewrite_data_files(table => 'poc_default.noaa_poc_demo', options => map('target-file-size-bytes', {target_file_size * 1024 * 1024}))\"\n",
    "out = spark.sql(compact_query)\n",
    "out.show()"
   ]
  },
  {
   "cell_type": "code",
   "execution_count": 19,
   "id": "36d404cd-b2ee-42ef-930b-883e056b3cff",
   "metadata": {
    "execution": {
     "iopub.execute_input": "2023-09-21T08:03:49.341620Z",
     "iopub.status.busy": "2023-09-21T08:03:49.341300Z",
     "iopub.status.idle": "2023-09-21T08:03:50.169807Z",
     "shell.execute_reply": "2023-09-21T08:03:50.168711Z",
     "shell.execute_reply.started": "2023-09-21T08:03:49.341590Z"
    },
    "tags": []
   },
   "outputs": [
    {
     "name": "stdout",
     "output_type": "stream",
     "text": [
      "2023-09-21 07:59:27   15.0 KiB 00003-9-d2b1e785-5ecb-4827-a171-2ba89629d21e-00005.parquet\n",
      "2023-09-21 08:03:35   29.2 KiB 00023-302-58362fc3-a108-493c-95bf-18d5f9efe73f-00001.parquet\n"
     ]
    }
   ],
   "source": [
    "%%sh\n",
    "aws s3 ls s3://odapocinfra-awspocdatabucket5eb99186-1nswrrisawh0t/output/poc/iceberg/poc_default.db/noaa_poc_demo/data/DATE_year=2023/ --human | sort | tail"
   ]
  }
 ],
 "metadata": {
  "kernelspec": {
   "display_name": "PySpark",
   "language": "python",
   "name": "pysparkkernel"
  },
  "language_info": {
   "codemirror_mode": {
    "name": "python",
    "version": 3
   },
   "file_extension": ".py",
   "mimetype": "text/x-python",
   "name": "pyspark",
   "pygments_lexer": "python3"
  }
 },
 "nbformat": 4,
 "nbformat_minor": 5
}
