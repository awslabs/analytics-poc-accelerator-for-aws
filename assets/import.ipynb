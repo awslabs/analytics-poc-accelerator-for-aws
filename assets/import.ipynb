{
 "cells": [
  {
   "cell_type": "code",
   "execution_count": 4,
   "metadata": {},
   "outputs": [
    {
     "name": "stdout",
     "output_type": "stream",
     "text": [
      "Calculation started (calculation_id=66c47353-2fc9-405c-4b7b-494eb6b2ff22) in (session=8ac4734b-9455-45d2-2be5-3ae7e3c61284). Checking calculation status...\n"
     ]
    },
    {
     "data": {
      "application/vnd.jupyter.widget-view+json": {
       "model_id": "159d4401beac4a629f78c0e99bbc5b97",
       "version_major": 2,
       "version_minor": 0
      },
      "text/plain": [
       "Progress:   0%|          |elapsed time = 00:00s"
      ]
     },
     "metadata": {},
     "output_type": "display_data"
    },
    {
     "name": "stdout",
     "output_type": "stream",
     "text": [
      "Calculation completed.\n",
      "+-----------+----------+---------+----------+---------+--------------------+------+---------------+------+---------------+------+--------------+-----+--------------+-----+----------------+-----+---------------+-----+-----+------+--------------+------+--------------+-----+---------------+-----+------+\n",
      "|        _c0|       _c1|      _c2|       _c3|      _c4|                 _c5|   _c6|            _c7|   _c8|            _c9|  _c10|          _c11| _c12|          _c13| _c14|            _c15| _c16|           _c17| _c18| _c19|  _c20|          _c21|  _c22|          _c23| _c24|           _c25| _c26|  _c27|\n",
      "+-----------+----------+---------+----------+---------+--------------------+------+---------------+------+---------------+------+--------------+-----+--------------+-----+----------------+-----+---------------+-----+-----+------+--------------+------+--------------+-----+---------------+-----+------+\n",
      "|    STATION|      DATE| LATITUDE| LONGITUDE|ELEVATION|                NAME|  TEMP|TEMP_ATTRIBUTES|  DEWP|DEWP_ATTRIBUTES|   SLP|SLP_ATTRIBUTES|  STP|STP_ATTRIBUTES|VISIB|VISIB_ATTRIBUTES| WDSP|WDSP_ATTRIBUTES|MXSPD| GUST|   MAX|MAX_ATTRIBUTES|   MIN|MIN_ATTRIBUTES| PRCP|PRCP_ATTRIBUTES| SNDP|FRSHTT|\n",
      "|72401599999|2023-01-01|37.074194|-77.957528|    133.8|ALLEN C PERKINSON...|  55.2|             24|  51.2|             24|9999.9|             0|999.9|             0|  8.6|              24|  5.4|             24| 11.1| 17.1|  65.5|             *|  46.4|             *| 0.44|              G|999.9|110000|\n",
      "|72401599999|2023-01-02|37.074194|-77.957528|    133.8|ALLEN C PERKINSON...|  53.7|             24|  48.5|             24|9999.9|             0|999.9|             0|  8.8|              24|  3.7|             24|  8.9|999.9|  68.2|              |  43.5|              | 0.00|              I|999.9|100000|\n",
      "|72401599999|2023-01-03|37.074194|-77.957528|    133.8|ALLEN C PERKINSON...|  57.8|             24|  52.3|             24|9999.9|             0|999.9|             0|  9.4|              24|  8.9|             24| 15.0| 20.0|  69.6|              |  43.5|              | 0.00|              I|999.9|000000|\n",
      "|72401599999|2023-01-04|37.074194|-77.957528|    133.8|ALLEN C PERKINSON...|  61.6|             24|  57.1|             24|9999.9|             0|999.9|             0|  9.8|              24|  7.1|             24| 17.1| 22.0|  69.6|              |  51.4|              | 0.30|              B|999.9|010000|\n",
      "|72401599999|2023-01-05|37.074194|-77.957528|    133.8|ALLEN C PERKINSON...|  58.9|             24|  49.9|             24|9999.9|             0|999.9|             0|  9.6|              24|  6.4|             24| 13.0| 19.0|  65.7|             *|  48.2|             *| 0.00|              I|999.9|000000|\n",
      "|72401599999|2023-01-06|37.074194|-77.957528|    133.8|ALLEN C PERKINSON...|  47.7|             24|  31.0|             24|9999.9|             0|999.9|             0| 10.0|              24|  4.8|             24| 15.0| 19.0|  55.4|             *|  35.4|             *| 0.00|              I|999.9|000000|\n",
      "|72401599999|2023-01-07|37.074194|-77.957528|    133.8|ALLEN C PERKINSON...|  39.9|             24|  27.7|             24|9999.9|             0|999.9|             0| 10.0|              24|  2.9|             23|  9.9| 15.0|  55.2|              |  28.8|              | 0.00|              I|999.9|000000|\n",
      "|72401599999|2023-01-08|37.074194|-77.957528|    133.8|ALLEN C PERKINSON...|  35.2|             24|  26.9|             24|9999.9|             0|999.9|             0|  9.5|              24|  2.8|             22|  8.9|999.9|  50.5|              |  27.9|              | 0.30|              B|999.9|010000|\n",
      "|72401599999|2023-01-09|37.074194|-77.957528|    133.8|ALLEN C PERKINSON...|  41.2|             24|  35.1|             24|1020.5|             4|999.9|             0|  7.3|              24|  4.7|             21| 11.1| 15.9|  52.2|              |  27.9|              | 0.81|              G|999.9|010000|\n",
      "|72401599999|2023-01-10|37.074194|-77.957528|    133.8|ALLEN C PERKINSON...|  34.8|             24|  28.0|             24|9999.9|             0|999.9|             0| 10.0|              24|  1.4|             24|  6.0|999.9|  52.2|              |  24.8|              | 0.00|              G|999.9|000000|\n",
      "|72401599999|2023-01-11|37.074194|-77.957528|    133.8|ALLEN C PERKINSON...|  34.4|             24|  30.1|             24|9999.9|             0|999.9|             0|  9.7|              24|  2.6|             20|  7.0|999.9|  47.8|             *|  23.9|             *|99.99|               |999.9|010000|\n",
      "|72401599999|2023-01-12|37.074194|-77.957528|    133.8|ALLEN C PERKINSON...|  46.9|             24|  41.6|             24|9999.9|             0|999.9|             0|  9.9|              24|  3.5|             24| 13.0| 18.1|  60.1|              |  24.4|              | 0.00|              I|999.9|000000|\n",
      "|72401599999|2023-01-13|37.074194|-77.957528|    133.8|ALLEN C PERKINSON...|  53.1|             24|  45.5|             24|9999.9|             0|999.9|             0|  9.5|              24| 10.0|             24| 19.0| 33.0|  64.4|             *|  46.9|             *| 0.63|              G|999.9|010000|\n",
      "|72401599999|2023-01-14|37.074194|-77.957528|    133.8|ALLEN C PERKINSON...|  38.4|             24|  26.8|             24|9999.9|             0|999.9|             0| 10.0|              24|  7.0|             24| 15.9| 22.0|  54.7|              |  31.6|              | 0.01|              G|999.9|010000|\n",
      "|72401599999|2023-01-15|37.074194|-77.957528|    133.8|ALLEN C PERKINSON...|  32.9|             24|  19.0|             24|9999.9|             0|999.9|             0| 10.0|              24|  5.2|             24| 15.9| 20.0|  47.3|              |  23.5|              | 0.00|              G|999.9|000000|\n",
      "|72401599999|2023-01-16|37.074194|-77.957528|    133.8|ALLEN C PERKINSON...|  38.5|             24|  15.2|             24|9999.9|             0|999.9|             0| 10.0|              24|  3.1|             24| 12.0| 15.9|  57.2|              |  22.6|              | 0.00|              I|999.9|000000|\n",
      "|72401599999|2023-01-17|37.074194|-77.957528|    133.8|ALLEN C PERKINSON...|  44.2|             24|  30.7|             24|9999.9|             0|999.9|             0|  9.8|              24|  5.7|             24| 11.1|999.9|  47.3|             *|  40.8|             *| 0.08|              B|999.9|010000|\n",
      "|72401599999|2023-01-18|37.074194|-77.957528|    133.8|ALLEN C PERKINSON...|  50.2|             24|  44.9|             24|9999.9|             0|999.9|             0|  8.6|              24|  7.4|             24| 13.0| 15.9|  61.9|             *|  42.8|             *| 0.00|              I|999.9|000000|\n",
      "|72401599999|2023-01-19|37.074194|-77.957528|    133.8|ALLEN C PERKINSON...|  52.0|             24|  45.9|             24|9999.9|             0|999.9|             0| 10.0|              24|  4.9|             24| 18.1| 25.1|  67.5|              |  42.6|              | 0.01|              C|999.9|010000|\n",
      "+-----------+----------+---------+----------+---------+--------------------+------+---------------+------+---------------+------+--------------+-----+--------------+-----+----------------+-----+---------------+-----+-----+------+--------------+------+--------------+-----+---------------+-----+------+\n",
      "only showing top 20 rows\n",
      "\n"
     ]
    }
   ],
   "source": [
    "from pyspark.sql import SparkSession\n",
    "\n",
    "#spark = SparkSession.builder.getOrCreate()\n",
    "df = spark.read.csv(\"s3://noaa-gsod-pds/2023\")\n",
    "\n",
    "df.show()"
   ]
  },
  {
   "cell_type": "code",
   "execution_count": 10,
   "metadata": {
    "scrolled": false
   },
   "outputs": [
    {
     "name": "stdout",
     "output_type": "stream",
     "text": [
      "Calculation started (calculation_id=bec47362-a67c-530e-0e8a-02e3214fb4f7) in (session=8ac4734b-9455-45d2-2be5-3ae7e3c61284). Checking calculation status...\n"
     ]
    },
    {
     "data": {
      "application/vnd.jupyter.widget-view+json": {
       "model_id": "ddd66ae0b60144e7892bbeffe0331795",
       "version_major": 2,
       "version_minor": 0
      },
      "text/plain": [
       "Progress:   0%|          |elapsed time = 00:00s"
      ]
     },
     "metadata": {},
     "output_type": "display_data"
    },
    {
     "name": "stdout",
     "output_type": "stream",
     "text": [
      "Calculation completed.\n"
     ]
    }
   ],
   "source": [
    "bucket = \"odapocinfra-awspocdatabucket5eb99186-dspnrudp1vg4\"\n",
    "df.coalesce(100).write.mode(\"overwrite\").parquet(f\"s3://{bucket}/sample-data/noaa/year=2023\")"
   ]
  },
  {
   "cell_type": "code",
   "execution_count": null,
   "metadata": {},
   "outputs": [
    {
     "name": "stdout",
     "output_type": "stream",
     "text": [
      "Calculation started (calculation_id=3cc47364-e4d1-efc2-c50f-6bd67bcc690b) in (session=8ac4734b-9455-45d2-2be5-3ae7e3c61284). Checking calculation status...\n"
     ]
    },
    {
     "data": {
      "application/vnd.jupyter.widget-view+json": {
       "model_id": "7c408cf514b24120942cf619e81a797f",
       "version_major": 2,
       "version_minor": 0
      },
      "text/plain": [
       "Progress:   0%|          |elapsed time = 00:00s"
      ]
     },
     "metadata": {},
     "output_type": "display_data"
    }
   ],
   "source": [
    "df.coalesce(10).write.mode(\"overwrite\").parquet(f\"s3://{bucket}/sample-data/noaa/year=2023\")"
   ]
  }
 ],
 "metadata": {
  "kernelspec": {
   "display_name": "Athena PySpark",
   "language": "python",
   "name": "kepler_python_kernel"
  },
  "language_info": {
   "codemirror_mode": {
    "name": "python",
    "version": 3
   },
   "file_extension": ".py",
   "mimetype": "text/x-python",
   "name": "Python_Session",
   "pygments_lexer": "python3"
  }
 },
 "nbformat": 4,
 "nbformat_minor": 1
}
